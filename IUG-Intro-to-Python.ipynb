{
 "cells": [
  {
   "cell_type": "markdown",
   "metadata": {},
   "source": [
    "<img src=\"./images/logo-iug@2x.png\" alt=\"IUG\" style=\"width:300px;\"/>\n",
    "\n",
    "# Data Day@IUG \n",
    "**Learning Lab #3**: Data Exploration with Python by Dr. N. Tsourakis\n",
    "\n",
    "[ntsourakis@iun.ch](ntsourakis@iun.ch)"
   ]
  },
  {
   "cell_type": "markdown",
   "metadata": {},
   "source": [
    "## Introduction to Python\n",
    "\n",
    "`Python` is a **programming language** that has been under development for over 25 years.\n",
    "\n",
    "Few key features:\n",
    "* It is a general purpose programming language.\n",
    "* Python also provides a powerful toolbox to data scientists.\n",
    "* It’s open-source, adaptable, and easy to learn. \n",
    "* It includes a rich group of libraries and tools.\n",
    "* It has an enormous community base.\n",
    "* Major online platforms like Google, Dropbox, Instagram, and Spotify & YouTube — all had worked with this programming language."
   ]
  },
  {
   "cell_type": "markdown",
   "metadata": {},
   "source": [
    "### Variables\n",
    "\n",
    "Understanding the concept of a variable is crucial when getting started with Python and other programming languages. In simplest terms, a `variable` is just a box that you can put stuff in. See of example the boxes below for storing different items.\n",
    "\n",
    "<img src=\"./images/storage-boxes.png\" alt=\"Storage Boxes\" style=\"width:600px;\"/>\n",
    "\n",
    "In the same way, we use different types of variables for storing different types of data.\n",
    "\n",
    "<img src=\"./images/variables.png\" alt=\"Variables\" style=\"width:600px;\"/>\n",
    "\n",
    "You can use variables to store all kinds of stuff, but for now, we are just going to look at storing numbers and text in variables."
   ]
  },
  {
   "cell_type": "markdown",
   "metadata": {},
   "source": [
    "Variables are assigned using a single equal sign =.\n",
    "\n",
    "The name of the variable is positioned left of the equal sign, while its value is placed on the right-hand side.\n",
    "\n",
    "Let's create a variable named `my_var` containing a sequence of characters and then print its value. Then try to print your own message!"
   ]
  },
  {
   "cell_type": "code",
   "execution_count": 1,
   "metadata": {},
   "outputs": [
    {
     "name": "stdout",
     "output_type": "stream",
     "text": [
      "Hello World!\n"
     ]
    }
   ],
   "source": [
    "my_var = \"Hello World!\"\n",
    "print(my_var)"
   ]
  }
 ],
 "metadata": {
  "interpreter": {
   "hash": "5ec7f24bccdc5982815fc9e679db841794fd8b692b70ffe03fd828d6ea20f1fe"
  },
  "kernelspec": {
   "display_name": "Python 3.9.7 64-bit",
   "name": "python3"
  },
  "language_info": {
   "codemirror_mode": {
    "name": "ipython",
    "version": 3
   },
   "file_extension": ".py",
   "mimetype": "text/x-python",
   "name": "python",
   "nbconvert_exporter": "python",
   "pygments_lexer": "ipython3",
   "version": "3.9.7"
  },
  "orig_nbformat": 4
 },
 "nbformat": 4,
 "nbformat_minor": 2
}
