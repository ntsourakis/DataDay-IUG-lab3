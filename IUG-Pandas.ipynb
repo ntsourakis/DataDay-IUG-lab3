{
 "cells": [
  {
   "cell_type": "markdown",
   "metadata": {},
   "source": [
    "<img src=\"./images/logo-iug@2x.png\" alt=\"IUG\" style=\"width:300px;\"/>\n",
    "\n",
    "# Data Day@IUG \n",
    "**Learning Lab #3**: Data Exploration with Python by Dr. N. Tsourakis\n",
    "\n",
    "[ntsourakis@iun.ch](ntsourakis@iun.ch)"
   ]
  },
  {
   "cell_type": "markdown",
   "metadata": {},
   "source": [
    "## Introduction to Pandas\n",
    "\n",
    "`Pandas` is a fast, powerful, flexible and easy to use open source data analysis and manipulation tool, built on top of the Python programming language. \n",
    "\n",
    "In this exercise we will use pandas to load data that can be used for exploration. The data will be read from:\n",
    "* *csv* files.\n",
    "* Online web sites.\n",
    "* Buil-in datasets."
   ]
  },
  {
   "cell_type": "markdown",
   "metadata": {},
   "source": [
    "### CSV files\n",
    "\n",
    "A ``comma-separated values`` (CSV) file is a delimited text file that uses a comma to separate values. Each line of the file is a data record. Each record consists of one or more fields, separated by commas. \n",
    "\n",
    "<img src=\"./images/csv_basic.png\" alt=\"csv file\" style=\"width:400px;\"/>"
   ]
  },
  {
   "cell_type": "code",
   "execution_count": null,
   "metadata": {},
   "outputs": [],
   "source": [
    "import pandas as pd\n",
    "\n",
    "# Read the data.\n",
    "pop = pd.read_csv('./data/state-population.csv')\n",
    "\n",
    "print(type(pop))"
   ]
  },
  {
   "cell_type": "code",
   "execution_count": null,
   "metadata": {},
   "outputs": [],
   "source": [
    "# Print the first 10 records.\n",
    "print(pop.head(10))"
   ]
  },
  {
   "cell_type": "code",
   "execution_count": null,
   "metadata": {},
   "outputs": [],
   "source": [
    "# Print the 'population' column.\n",
    "pop['population']"
   ]
  },
  {
   "cell_type": "code",
   "execution_count": null,
   "metadata": {},
   "outputs": [],
   "source": [
    "# Print the mean value of the column.\n",
    "pop['population'].mean()"
   ]
  },
  {
   "cell_type": "markdown",
   "metadata": {},
   "source": [
    "<u>Quick exercise</u>: Get the mean value of the *age* column."
   ]
  },
  {
   "cell_type": "code",
   "execution_count": null,
   "metadata": {},
   "outputs": [],
   "source": [
    "### Enter your code below this line."
   ]
  },
  {
   "cell_type": "markdown",
   "metadata": {},
   "source": [
    "### Online web sites\n",
    "\n",
    "A very useful resource of data is the Web. In this section we exploit data from the official Swiss website about covid-19 ([COVID-⁠19 Switzerland](https://www.covid19.admin.ch/en/overview))."
   ]
  },
  {
   "cell_type": "code",
   "execution_count": null,
   "metadata": {},
   "outputs": [],
   "source": [
    "import requests\n",
    "\n",
    "# Request the data from a url\n",
    "x = requests.get(\"https://www.covid19.admin.ch/en/overview\")\n",
    "print(x.status_code)\n",
    "\n",
    "# Read the data from the tables\n",
    "dfs = pd.read_html(x.text)\n",
    "\n",
    "print(type(dfs[0]))"
   ]
  },
  {
   "cell_type": "code",
   "execution_count": null,
   "metadata": {},
   "outputs": [],
   "source": [
    "# Print the data that we have read.\n",
    "print(dfs[0])\n",
    "print(dfs[1])\n",
    "print(dfs[2])"
   ]
  },
  {
   "cell_type": "markdown",
   "metadata": {},
   "source": [
    "### Built-in datasets\n",
    "\n",
    "The ``sklearn.datasets`` module includes utilities to load datasets, including methods to load and fetch popular reference datasets."
   ]
  },
  {
   "cell_type": "code",
   "execution_count": null,
   "metadata": {},
   "outputs": [],
   "source": [
    "from sklearn import datasets\n",
    "\n",
    "# Print the available datasets.\n",
    "print(dir(datasets))"
   ]
  },
  {
   "cell_type": "markdown",
   "metadata": {},
   "source": [
    "We will load the [**Digits dataset**](https://scikit-learn.org/stable/modules/generated/sklearn.datasets.load_digits.html) bundled with scikit-learn:\n",
    "* It consists of 8-by-8 pixel images representing 1797 hand-written digits (0 through 9) \n",
    "\n",
    "<img src=\"./images/24digits.png\" alt=\"First 24 digit images in the digits dataset\" width=400/>"
   ]
  },
  {
   "cell_type": "code",
   "execution_count": null,
   "metadata": {},
   "outputs": [],
   "source": [
    "from sklearn.datasets import load_digits\n",
    "\n",
    "# Load the digits dataset.\n",
    "digits = load_digits()\n",
    "\n",
    "# Print the description of the dataset.\n",
    "print(digits.DESCR)"
   ]
  },
  {
   "cell_type": "code",
   "execution_count": null,
   "metadata": {},
   "outputs": [],
   "source": [
    "# Print the size of the dataset.\n",
    "print(digits.data.shape)"
   ]
  },
  {
   "cell_type": "code",
   "execution_count": null,
   "metadata": {},
   "outputs": [],
   "source": [
    "# Show array for sample image at index.\n",
    "digits.images[13] "
   ]
  },
  {
   "cell_type": "markdown",
   "metadata": {},
   "source": [
    "Visualization of `digits.images[13]`\n",
    "\n",
    "    <img src=\"./images/digit3.png\" alt=\"Image of a handwritten digit 3\" width=\"200px\"/>\n",
    "\n",
    "Each of the array elements corresponds to a specific gray-scale value.\n",
    "\n",
    "    <img src=\"./images/grays.png\" alt=\"Grayscale\" width=\"600px\"/>"
   ]
  },
  {
   "cell_type": "code",
   "execution_count": null,
   "metadata": {},
   "outputs": [],
   "source": [
    "# Change the upper left pixel.\n",
    "digits.images[13][0][0] = 16\n",
    "digits.images[13]"
   ]
  },
  {
   "cell_type": "code",
   "execution_count": null,
   "metadata": {},
   "outputs": [],
   "source": [
    "# Print the image again.\n",
    "import matplotlib.pyplot as plt\n",
    "\n",
    "plt.gray()\n",
    "plt.matshow(digits.images[13])"
   ]
  }
 ],
 "metadata": {
  "interpreter": {
   "hash": "5ec7f24bccdc5982815fc9e679db841794fd8b692b70ffe03fd828d6ea20f1fe"
  },
  "kernelspec": {
   "display_name": "Python 3.9.7 64-bit",
   "name": "python3"
  },
  "language_info": {
   "codemirror_mode": {
    "name": "ipython",
    "version": 3
   },
   "file_extension": ".py",
   "mimetype": "text/x-python",
   "name": "python",
   "nbconvert_exporter": "python",
   "pygments_lexer": "ipython3",
   "version": "3.9.7"
  },
  "orig_nbformat": 4
 },
 "nbformat": 4,
 "nbformat_minor": 2
}
