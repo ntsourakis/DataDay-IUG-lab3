{
  "cells": [
    {
      "cell_type": "markdown",
      "metadata": {
        "id": "2j0Ngk-ei0wa"
      },
      "source": [
        "<img src=\"./images/logo-iug@2x.png\" alt=\"IUG\" style=\"width:300px;\"/>\n",
        "\n",
        "# TEC 640\n",
        "**Learning Lab #3**: Data Exploration with Python by Dr. N. Tsourakis\n",
        "\n",
        "[ntsourakis@iun.ch](ntsourakis@iun.ch)"
      ]
    },
    {
      "cell_type": "markdown",
      "metadata": {},
      "source": [
        "## Exploratory Data Analysis\n",
        "\n",
        "`Exploratory Data Analysis (EDA)` helps us to understand the main characteristics of the data before resorting to any solution. Visual methods are most commonly used and we are going to explore a few of those throughout the notebook."
      ]
    },
    {
      "cell_type": "markdown",
      "metadata": {
        "id": "qjBPt8W2i0wf"
      },
      "source": [
        "## Visualization with Seaborn"
      ]
    },
    {
      "cell_type": "markdown",
      "metadata": {
        "id": "FoV9lqAMi0wf"
      },
      "source": [
        "[Seaborn](http://seaborn.pydata.org/) is a Python data visualization library based on matplotlib. It provides a high-level interface for drawing attractive and informative statistical graphics, and integrates with the functionality provided by Pandas ``DataFrame``s.\n",
        "\n",
        "Check this gallery with different examples: [Seaborn gallery](http://seaborn.pydata.org/examples/index.html)."
      ]
    },
    {
      "cell_type": "markdown",
      "metadata": {
        "id": "DhyqW_qLi0wg"
      },
      "source": [
        "### Seaborn examples\n",
        "\n",
        "We are going to create some typical plots with Seaborn using various datasets."
      ]
    },
    {
      "cell_type": "code",
      "execution_count": null,
      "metadata": {
        "collapsed": true,
        "id": "L6y3HsRti0wh"
      },
      "outputs": [],
      "source": [
        "# Import the necessary libraries.\n",
        "import matplotlib.pyplot as plt\n",
        "\n",
        "%matplotlib inline\n",
        "import numpy as np\n",
        "import pandas as pd"
      ]
    },
    {
      "cell_type": "markdown",
      "metadata": {
        "id": "NdB45b4xi0wi"
      },
      "source": [
        "Now we create some random walk data:"
      ]
    },
    {
      "cell_type": "code",
      "execution_count": null,
      "metadata": {
        "collapsed": true,
        "id": "jdKpc3TEi0wi"
      },
      "outputs": [],
      "source": [
        "# Create some data\n",
        "rng = np.random.RandomState(0)\n",
        "\n",
        "# Return evenly spaced numbers over a specified interval: x[500]\n",
        "x = np.linspace(0, 10, 500)\n",
        "\n",
        "# Return the cumulative sum of the elements along a given axis: y[500][6]\n",
        "y = np.cumsum(rng.randn(500, 6), 0)\n",
        "\n",
        "y"
      ]
    },
    {
      "cell_type": "markdown",
      "metadata": {
        "id": "Eex144AOi0wk"
      },
      "source": [
        "We can set the style by calling Seaborn's ``set()`` method.\n",
        "By convention, Seaborn is imported as ``sns``:"
      ]
    },
    {
      "cell_type": "code",
      "execution_count": null,
      "metadata": {
        "id": "xA5fkriui0wk"
      },
      "outputs": [],
      "source": [
        "import seaborn as sns\n",
        "sns.set()"
      ]
    },
    {
      "cell_type": "markdown",
      "metadata": {
        "id": "H5Ha8_-Xi0wl"
      },
      "source": [
        "Now create the line plots."
      ]
    },
    {
      "cell_type": "code",
      "execution_count": null,
      "metadata": {
        "id": "OjcN6GT2i0wl",
        "outputId": "0d55bc54-2554-4bed-c863-6fe9a59ede9f"
      },
      "outputs": [],
      "source": [
        "plt.plot(x, y)\n",
        "plt.legend('ABCDEF', ncol=2, loc='upper left');\n",
        "\n",
        "# Try to change the legend of the lines."
      ]
    },
    {
      "cell_type": "markdown",
      "metadata": {
        "id": "slW3AM9hi0wl"
      },
      "source": [
        "Often in statistical data visualization, all you want is to plot histograms and joint distributions of variables."
      ]
    },
    {
      "cell_type": "code",
      "execution_count": null,
      "metadata": {
        "id": "UfJrZ4CMi0wl",
        "outputId": "24ca104a-4976-4ee1-f9f0-4c000f6d570e"
      },
      "outputs": [],
      "source": [
        "data = np.random.multivariate_normal([0, 0], [[5, 2], [2, 2]], size=2000)\n",
        "data = pd.DataFrame(data, columns=['x', 'y'])\n",
        "\n",
        "for col in 'xy':\n",
        "    plt.hist(data[col], alpha=0.5)\n",
        "\n",
        "# Try to change the alpha value and see what happens."
      ]
    },
    {
      "cell_type": "markdown",
      "metadata": {
        "id": "bpUQ4r5fi0wm"
      },
      "source": [
        "We can get a smooth estimate of the distribution using a kernel density estimation, which Seaborn does with ``sns.kdeplot``:"
      ]
    },
    {
      "cell_type": "code",
      "execution_count": null,
      "metadata": {
        "id": "Zfq8LeRii0wm",
        "outputId": "0cbc3f90-a832-488f-9301-bb698211236a"
      },
      "outputs": [],
      "source": [
        "for col in 'xy':\n",
        "    sns.kdeplot(data[col], shade=False)\n",
        "\n",
        "# Change the value of the shade from 'False' to 'True'."
      ]
    },
    {
      "cell_type": "markdown",
      "metadata": {
        "id": "sQd2u6sli0wm"
      },
      "source": [
        "We can combine histograms and KDE using ``distplot``:"
      ]
    },
    {
      "cell_type": "code",
      "execution_count": null,
      "metadata": {
        "id": "10vD0b9Si0wm",
        "outputId": "d6309289-8d9e-413c-d20d-901774fa678b"
      },
      "outputs": [],
      "source": [
        "sns.distplot(data['x'])\n",
        "sns.distplot(data['y']);"
      ]
    },
    {
      "cell_type": "markdown",
      "metadata": {
        "id": "H8azxWuDi0wn"
      },
      "source": [
        "A ``jointplot`` is used to quickly visualize and analyze the relationship between two variables and describe their individual distributions on the same plot."
      ]
    },
    {
      "cell_type": "code",
      "execution_count": null,
      "metadata": {
        "id": "c1LUiizai0wn",
        "outputId": "d2ace8af-ce35-4c46-e5c1-7c996d0a7ec6"
      },
      "outputs": [],
      "source": [
        "with sns.axes_style('white'):\n",
        "    sns.jointplot(\"x\", \"y\", data, kind='hex')\n",
        "\n",
        "# Change kind from 'hex' to 'scatter'."
      ]
    },
    {
      "cell_type": "markdown",
      "metadata": {
        "id": "AtjvMzCRi0wn"
      },
      "source": [
        "A ``pairplot`` visualizes given data to find the relationship between them where the variables can be continuous or categorical.\n",
        "\n",
        "We'll demo this with the well-known Iris dataset, which lists measurements of petals and sepals of three iris species:"
      ]
    },
    {
      "cell_type": "code",
      "execution_count": null,
      "metadata": {
        "id": "nUCjWXyDi0wn",
        "outputId": "da080a51-a179-479c-93d8-0402c57059d7"
      },
      "outputs": [],
      "source": [
        "iris = sns.load_dataset(\"iris\")\n",
        "iris.head()"
      ]
    },
    {
      "cell_type": "markdown",
      "metadata": {
        "id": "ENhFaigBi0wn"
      },
      "source": [
        "We can now proceed with the plot."
      ]
    },
    {
      "cell_type": "code",
      "execution_count": null,
      "metadata": {
        "id": "P3k6SLY5i0wo",
        "outputId": "6d539b86-632d-4611-b6f5-96cc6fe72b70"
      },
      "outputs": [],
      "source": [
        "sns.pairplot(iris, hue='species', size=2.5);\n",
        "\n",
        "# Change the size to '4.0'."
      ]
    },
    {
      "cell_type": "markdown",
      "metadata": {
        "id": "6RGUnY30i0wo"
      },
      "source": [
        "Sometimes the best way to view data is via histograms of subsets. Seaborn's ``FacetGrid`` makes this extremely simple.\n",
        "We'll take a look at some data that shows the amount that restaurant staff receive in tips based on various indicator data:"
      ]
    },
    {
      "cell_type": "code",
      "execution_count": null,
      "metadata": {
        "id": "FyyXbNuti0wo",
        "outputId": "8d2f2a8b-ebae-44d4-b80a-37c9c11565fa"
      },
      "outputs": [],
      "source": [
        "tips = sns.load_dataset('tips')\n",
        "tips.head()"
      ]
    },
    {
      "cell_type": "code",
      "execution_count": null,
      "metadata": {
        "id": "lJhJkJF1i0wo",
        "outputId": "114da4c4-c33a-4476-928c-246e7730d32f"
      },
      "outputs": [],
      "source": [
        "# Calculate the tip percentage.\n",
        "tips['tip_pct'] = 100 * tips['tip'] / tips['total_bill']\n",
        "tips.head()\n"
      ]
    },
    {
      "cell_type": "code",
      "execution_count": null,
      "metadata": {},
      "outputs": [],
      "source": [
        "# Now show the plot.\n",
        "grid = sns.FacetGrid(tips, row=\"sex\", col=\"time\", margin_titles=True)\n",
        "grid.map(plt.hist, \"tip_pct\", bins=np.linspace(0, 40, 15));\n",
        "\n",
        "# Change the row from 'sex' to 'smoker'."
      ]
    },
    {
      "cell_type": "markdown",
      "metadata": {
        "id": "Nbnbl_vAi0wo"
      },
      "source": [
        "Factor plots can be useful for this kind of visualization as well. This allows you to view the distribution of a parameter within bins defined by any other parameter:"
      ]
    },
    {
      "cell_type": "code",
      "execution_count": null,
      "metadata": {
        "id": "__G5AySqi0wo",
        "outputId": "994128e2-231f-4e01-85b7-237216a6d4d6"
      },
      "outputs": [],
      "source": [
        "with sns.axes_style(style='ticks'):\n",
        "    g = sns.factorplot(\"day\", \"total_bill\", \"sex\", data=tips, kind=\"box\")\n",
        "    g.set_axis_labels(\"Day\", \"Total Bill\");\n",
        "\n",
        "# Change the kind from box to 'violin'."
      ]
    },
    {
      "cell_type": "markdown",
      "metadata": {
        "id": "D0h4D089i0wo"
      },
      "source": [
        "Similar to the pairplot we saw earlier, we can use ``sns.jointplot`` to show the joint distribution between different datasets, along with the associated marginal distributions:"
      ]
    },
    {
      "cell_type": "code",
      "execution_count": null,
      "metadata": {
        "id": "t14QfyXCi0wo",
        "outputId": "e801a25b-5851-45fa-aa18-ac8c6a977cc0"
      },
      "outputs": [],
      "source": [
        "with sns.axes_style('white'):\n",
        "    sns.jointplot(\"total_bill\", \"tip\", data=tips, kind='hex')"
      ]
    },
    {
      "cell_type": "markdown",
      "metadata": {
        "id": "D4ZQC57-i0wp"
      },
      "source": [
        "The joint plot can even do some automatic kernel density estimation and regression:"
      ]
    },
    {
      "cell_type": "code",
      "execution_count": null,
      "metadata": {
        "id": "km9ah2lti0wp",
        "outputId": "d3e5ba60-27d3-4cba-8006-587dfd6a795c"
      },
      "outputs": [],
      "source": [
        "sns.jointplot(\"total_bill\", \"tip\", data=tips, kind='reg');"
      ]
    },
    {
      "cell_type": "markdown",
      "metadata": {},
      "source": [
        "Time series can be plotted using ``sns.factorplot``. In the following example, we'll use the Planets data."
      ]
    },
    {
      "cell_type": "code",
      "execution_count": null,
      "metadata": {
        "id": "Fa92d2Wgi0wp",
        "outputId": "b8d38737-ec6f-4071-d292-f9a13aaf0e7f"
      },
      "outputs": [],
      "source": [
        "planets = sns.load_dataset('planets')\n",
        "planets.head()"
      ]
    },
    {
      "cell_type": "code",
      "execution_count": null,
      "metadata": {
        "id": "YdewePuwi0wp",
        "outputId": "bbf64fe7-ea1b-47df-a680-666fbd001f6d"
      },
      "outputs": [],
      "source": [
        "with sns.axes_style('white'):\n",
        "    g = sns.factorplot(\"year\", data=planets, aspect=2,\n",
        "                       kind=\"count\", color='steelblue')\n",
        "    g.set_xticklabels(step=5)"
      ]
    },
    {
      "cell_type": "markdown",
      "metadata": {
        "id": "4o3emgfji0wp"
      },
      "source": [
        "We can learn more by looking at the *method* of discovery of each of these planets:"
      ]
    },
    {
      "cell_type": "code",
      "execution_count": null,
      "metadata": {
        "id": "CWBAUcLKi0wp",
        "outputId": "19595bb6-9d21-48aa-a792-07dc27319705"
      },
      "outputs": [],
      "source": [
        "with sns.axes_style('white'):\n",
        "    g = sns.factorplot(\"year\", data=planets, aspect=4.0, kind='count',\n",
        "                       hue='method', order=range(2001, 2015))\n",
        "    g.set_ylabels('Number of Planets Discovered')"
      ]
    }
  ],
  "metadata": {
    "anaconda-cloud": {},
    "colab": {
      "name": "04.14-Visualization-With-Seaborn.ipynb",
      "provenance": []
    },
    "interpreter": {
      "hash": "5ec7f24bccdc5982815fc9e679db841794fd8b692b70ffe03fd828d6ea20f1fe"
    },
    "kernelspec": {
      "display_name": "Python 3.9.7 64-bit",
      "name": "python3"
    },
    "language_info": {
      "codemirror_mode": {
        "name": "ipython",
        "version": 3
      },
      "file_extension": ".py",
      "mimetype": "text/x-python",
      "name": "python",
      "nbconvert_exporter": "python",
      "pygments_lexer": "ipython3",
      "version": "3.9.7"
    }
  },
  "nbformat": 4,
  "nbformat_minor": 0
}
